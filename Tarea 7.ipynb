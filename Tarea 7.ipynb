{
 "cells": [
  {
   "cell_type": "markdown",
   "id": "f8a8d617",
   "metadata": {},
   "source": [
    "# Tarea 7"
   ]
  },
  {
   "cell_type": "markdown",
   "id": "5584cb5c",
   "metadata": {},
   "source": [
    "### Este codigo encuentra la raiz de una función usando el metodo de la bisección y el metodo de Newton"
   ]
  },
  {
   "cell_type": "markdown",
   "id": "11c5b633",
   "metadata": {},
   "source": [
    "Importamos las librerias que vamos a ocupar."
   ]
  },
  {
   "cell_type": "code",
   "execution_count": 29,
   "id": "dfacae29",
   "metadata": {},
   "outputs": [],
   "source": [
    "import matplotlib.pyplot as plt\n",
    "import numpy as np"
   ]
  },
  {
   "cell_type": "code",
   "execution_count": 137,
   "id": "ec72835a",
   "metadata": {},
   "outputs": [],
   "source": [
    "class MaxIterations(Exception):\n",
    "    pass"
   ]
  },
  {
   "cell_type": "markdown",
   "id": "228c36d6",
   "metadata": {},
   "source": [
    "Definimos una función que aplique el metodo de bisección con unas pocas iteraciones para obtener un punto cercano a la raíz de la función."
   ]
  },
  {
   "cell_type": "code",
   "execution_count": 155,
   "id": "9922a944",
   "metadata": {},
   "outputs": [],
   "source": [
    "def B_Newton(f, df, a, b, epsilon,N=1000000): # Funcion, derivada de la función, buscamos en el intervalo a,b,\n",
    "                                               # numero de iteraciones maximas del metodo de Newton\n",
    "\n",
    "    pp = a  # Guardamos el primer valor de a como el punto de partida\n",
    "    n = 5   # Elegimos el numero de iteraciones del metodo de bisección\n",
    "    \n",
    "    \n",
    "    for i in range(n):\n",
    "        k = i+1 #Se guarda el numero de iteracion en el que estamos\n",
    "        p = a + (b - a)/2 # Encontramos un punto cada vez mas cercano\n",
    "        \n",
    "        if abs(p - pp)/abs(p) < epsilon: # Si la diferencia relativa a p es menor a la precision se elige p como la raiz\n",
    "            return print('la raíz encontrada es', str(p), ', después de ',str(k), ' iteraciones del metodo de bisección')\n",
    "        \n",
    "        elif f(p)*f(a) > 0: # Sino, si el producto entre el punto y la cota a es mayor a 0 remplazamos a por el punto\n",
    "            a = p\n",
    "            \n",
    "        else:\n",
    "            b = p # si lo anterior no se cumple remplazamos a por el punto\n",
    "            \n",
    "        pp=p # Guardamos el p actual como el nuevo punto de partida\n",
    "        \n",
    "    po = p   # Guardamos el punto resultante las n iteraciones como el punto de partida para aplicar el metodo de Newton\n",
    "       \n",
    "        \n",
    "    for i in range(N):\n",
    "        # El nuevo punto es la diferencia entre el punto de partida y la funcion evaluada en el punto de partida dividido en\n",
    "        # su derivada evaluada en el mismo punto\n",
    "        p = po - f(po)/df(po)  \n",
    "        \n",
    "        if abs(p - po)/abs(p) < epsilon: # Si la diferencia relativa a p es menor a la precision se elige p como la raiz\n",
    "            return print('La raíz encontrada es', str(p), ', después de ', str(n+(i+1)), ' iteraciones', ',', str(n),\n",
    "                         'del metodo de bisección', 'y', str(i+1), 'del metodo de Newton.')\n",
    "        \n",
    "        po = p # Sino, se elige el punto obtenido como nuevo punto de partida\n",
    "    \n",
    "    raise MaxIterations(\"No se encontró el cero luego de\", N, \"iteraciones.\")"
   ]
  },
  {
   "cell_type": "markdown",
   "id": "ae552af5",
   "metadata": {},
   "source": [
    "Definimos la función a ocupar."
   ]
  },
  {
   "cell_type": "code",
   "execution_count": 35,
   "id": "6d219d30",
   "metadata": {},
   "outputs": [],
   "source": [
    "def funcion(x):\n",
    "    return np.sinh(x) - np.cos(x)"
   ]
  },
  {
   "cell_type": "markdown",
   "id": "d3bd2041",
   "metadata": {},
   "source": [
    "Definimos el resultado de la derivada de la función para luego usarla en el metodo de Newton."
   ]
  },
  {
   "cell_type": "code",
   "execution_count": 136,
   "id": "f04d638f",
   "metadata": {},
   "outputs": [],
   "source": [
    "def df(x):\n",
    "    return np.cosh(x) + np.sin(x)"
   ]
  },
  {
   "cell_type": "markdown",
   "id": "d390dbec",
   "metadata": {},
   "source": [
    "Aplicamos la función de metodo de bisección y el metodo de Newton."
   ]
  },
  {
   "cell_type": "code",
   "execution_count": 156,
   "id": "7c7165be",
   "metadata": {},
   "outputs": [
    {
     "name": "stdout",
     "output_type": "stream",
     "text": [
      "La raíz encontrada es 0.7032906588640294 , después de  9  iteraciones , 5 del metodo de bisección y 4 del metodo de Newton.\n"
     ]
    }
   ],
   "source": [
    "B_Newton(funcion, df, -9 , 10, 0.0001) # Se busca encontrar la raíz entre -9 y 10 despues, con una precisión de 0.0001"
   ]
  },
  {
   "cell_type": "markdown",
   "id": "b3f341a5",
   "metadata": {},
   "source": [
    "Nota: Una cosa a comentar es que para este caso usar el metodo de bisección y luego el de Newton nos permite encontrar la raíz nos toma menos iteraciones que hacerlo solo con el metodo de Newton."
   ]
  }
 ],
 "metadata": {
  "kernelspec": {
   "display_name": "Python 3",
   "language": "python",
   "name": "python3"
  },
  "language_info": {
   "codemirror_mode": {
    "name": "ipython",
    "version": 3
   },
   "file_extension": ".py",
   "mimetype": "text/x-python",
   "name": "python",
   "nbconvert_exporter": "python",
   "pygments_lexer": "ipython3",
   "version": "3.8.8"
  }
 },
 "nbformat": 4,
 "nbformat_minor": 5
}
