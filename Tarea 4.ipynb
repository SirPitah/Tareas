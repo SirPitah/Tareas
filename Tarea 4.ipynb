{
 "cells": [
  {
   "cell_type": "markdown",
   "id": "f8a8d617",
   "metadata": {},
   "source": [
    "## Tarea 4"
   ]
  },
  {
   "cell_type": "code",
   "execution_count": 2,
   "id": "18b760d1",
   "metadata": {},
   "outputs": [],
   "source": [
    "import numpy as np\n",
    "\n"
   ]
  },
  {
   "cell_type": "code",
   "execution_count": 6,
   "id": "9644f0d1",
   "metadata": {},
   "outputs": [],
   "source": [
    "\n",
    "np.random.seed(1)  #para que la asignacion no cambie cada vez\n",
    "\n",
    "n_file='Estudiantes.txt'  #archivo de texto que contiene los nombres\n",
    "lineas=open(n_file).readlines()  #lista con cada nombre y salto de linea\n",
    "\n",
    "n_list = [name.split('\\n')[0] for name in lineas ]  #remover salto de linea y armar lista de nombres\n",
    "\n",
    "tareas=[str(a) for a in range(1,11)]*2  #lista con los numeros de tareas, se multiplica por dos para tener cada numero dos veces\n",
    "\n",
    "t_random = np.random.permutation(tareas)  #permutacion de tareas, como se usa toda la lista una permutacion es suficiente\n",
    "\n",
    "#escribir el archivo\n",
    "t_file = 'tarea.txt'  #nombre archivo de salida, debe existir previamente\n",
    "\n",
    "try:\n",
    "\tt_file=open(t_file,mode='x')  #la primera vez crea el archivo, las siguientes lo reescribe\n",
    "except:\n",
    "\tt_file=open(t_file,mode='w')\n",
    "\n",
    "#empezar a escribir las lineas\n",
    "t_file.write('{}\\t{}\\n'.format('#','Nombres'))\n",
    "for n,t in zip(n_list,t_random):  #por cada linea escribir el nombre, tab, y asignacion\n",
    "\tt_file.write('{}\\t{}\\n'.format(t,n))\n",
    "t_file.close()\n"
   ]
  },
  {
   "cell_type": "code",
   "execution_count": null,
   "id": "dde66fae",
   "metadata": {},
   "outputs": [],
   "source": []
  }
 ],
 "metadata": {
  "kernelspec": {
   "display_name": "Python 3",
   "language": "python",
   "name": "python3"
  },
  "language_info": {
   "codemirror_mode": {
    "name": "ipython",
    "version": 3
   },
   "file_extension": ".py",
   "mimetype": "text/x-python",
   "name": "python",
   "nbconvert_exporter": "python",
   "pygments_lexer": "ipython3",
   "version": "3.8.8"
  }
 },
 "nbformat": 4,
 "nbformat_minor": 5
}
