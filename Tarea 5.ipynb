{
 "cells": [
  {
   "cell_type": "markdown",
   "id": "f8a8d617",
   "metadata": {},
   "source": [
    "## Tarea 5"
   ]
  },
  {
   "cell_type": "code",
   "execution_count": 1,
   "id": "18b760d1",
   "metadata": {},
   "outputs": [],
   "source": [
    "#Generamos una caja con 28 bolas y la combinacion de cada color con cada numero representando a cada una de las bolas.\n",
    "def unir(color, numeros):\n",
    "    return {color + numero for numero in numeros}\n",
    "\n",
    "caja = unir('B', '12345678') | unir('A', '123456') | unir('R', '123456789')"
   ]
  },
  {
   "cell_type": "code",
   "execution_count": 2,
   "id": "9644f0d1",
   "metadata": {},
   "outputs": [],
   "source": [
    "import itertools\n",
    "\n",
    "espacio = set(itertools.combinations(caja, 6))#Generamos la combinatoria de las 6 bolas sacadas de las 28 totales."
   ]
  },
  {
   "cell_type": "code",
   "execution_count": 3,
   "id": "dde66fae",
   "metadata": {},
   "outputs": [],
   "source": [
    "#Para responder la primera pregunta\n",
    "\n",
    "G = list(espacio) #Transformamos el conjunto de las combinaciones en una lista con la que podamos trabajar\n",
    "K = len(espacio) #Tomamos el tamaño de la lista para definir el numero de iteraciones\n",
    "\n",
    "i = 0 \n",
    "nr = [] #Generamos una lista vacia donde se añadiran los resultados del ciclo while\n",
    "a = {}\n",
    "\n",
    "while i < K: #Se genera un ciclo while para ir eligiendo cada conjunto del espacio\n",
    "    \n",
    "    l = set(itertools.islice(G[i],3)) #Recortamos el conjunto hasta la tercera entrada y la volvemos un conjunto\n",
    "    n = str(i)     #Generamos un indice\n",
    "    l.add(n)       #Añadimos el indice al conjunto para diferenciar cada resultado\n",
    "    \n",
    "    nr.insert(i,frozenset(l)) #Se añade el conjunto anterior a la lista de resultados\n",
    "    i = i+1\n",
    "\n",
    "a = set(nr) #Transformamos la lista de resultados a un conjunto\n",
    "#Nota: como en un conjunto no pueden repetirse variables y al haber recortado el conjunto de 6 pelotas a 3 tendriamos\n",
    "#conjuntos repetidos por lo que se le agrego un indice para evitar que sean eliminados"
   ]
  },
  {
   "cell_type": "code",
   "execution_count": 4,
   "id": "8efb8f04",
   "metadata": {},
   "outputs": [],
   "source": [
    "#Creamos una funcion que lea el conjunto y me de el numero de conjuntos que sus primeras 3 bolas no son rojas\n",
    "def No_rojo(evento): \n",
    "    s = [i[0] for i in evento]\n",
    "    return s.count('R') == 0\n",
    "\n",
    "NRojo = {e for e in a if No_rojo(e)}"
   ]
  },
  {
   "cell_type": "code",
   "execution_count": 5,
   "id": "1a8b0bd6",
   "metadata": {},
   "outputs": [],
   "source": [
    "#Definimos una funcion para calcular la probabilidad\n",
    "def prob(evento, espacio):\n",
    "    ''' \n",
    "    Regresa la probabilidad de que ocurra 'evento'.\n",
    "    Los argumentos deben ser conjuntos.    \n",
    "    '''\n",
    "    return (len(evento)/len(espacio))"
   ]
  },
  {
   "cell_type": "code",
   "execution_count": 6,
   "id": "eac4eb42",
   "metadata": {},
   "outputs": [
    {
     "data": {
      "text/plain": [
       "0.12077624892270201"
      ]
     },
     "execution_count": 6,
     "metadata": {},
     "output_type": "execute_result"
    }
   ],
   "source": [
    "prob(NRojo, espacio)"
   ]
  },
  {
   "cell_type": "code",
   "execution_count": 7,
   "id": "f2ed74b5",
   "metadata": {},
   "outputs": [],
   "source": [
    "#Para responder la segunda pregunta \n",
    "\n",
    "# Filtramos primero todos los que con tengan 2 bolas rojas, del resultado anterior buscamos los que tengan 2 bolas azules\n",
    "# Una vez que pase por esos dos filtros ya sabemos que todos los conjuntos resultantes tienen dos bolas de cada color\n",
    "\n",
    "def rojo(evento): #Definimos una funcion que devuelva los conjuntos que contienen 2 bolas rojas del conjunto de combinaciones\n",
    "    s = [i[0] for i in evento]\n",
    "    return s.count('R') == 2\n",
    "\n",
    "Rojo = {e for e in espacio if rojo(e)}\n",
    "\n",
    "def azul(evento): #Definimos una funcion que devuelva los conjuntos que contienen 2 bolas azules del conjunto anterior\n",
    "    s = [i[0] for i in evento]\n",
    "    return s.count('A') == 2\n",
    "\n",
    "Azul = {e for e in Rojo if azul(e)}"
   ]
  },
  {
   "cell_type": "code",
   "execution_count": 8,
   "id": "33cf5595",
   "metadata": {},
   "outputs": [
    {
     "data": {
      "text/plain": [
       "0.1497815685458706"
      ]
     },
     "execution_count": 8,
     "metadata": {},
     "output_type": "execute_result"
    }
   ],
   "source": [
    "prob(Azul,espacio)"
   ]
  },
  {
   "cell_type": "markdown",
   "id": "2cd7d6ed",
   "metadata": {},
   "source": [
    "# Calificación: 4.5"
   ]
  },
  {
   "cell_type": "markdown",
   "id": "f10c1efc",
   "metadata": {},
   "source": [
    "Se restaron un punto y medio por el retraso en la entrega. Luego no logré encontrar el error en el código, pero la primera respuesta da un número distinto al correcto (-1 puntos)."
   ]
  }
 ],
 "metadata": {
  "kernelspec": {
   "display_name": "Python 3",
   "language": "python",
   "name": "python3"
  },
  "language_info": {
   "codemirror_mode": {
    "name": "ipython",
    "version": 3
   },
   "file_extension": ".py",
   "mimetype": "text/x-python",
   "name": "python",
   "nbconvert_exporter": "python",
   "pygments_lexer": "ipython3",
   "version": "3.8.5"
  }
 },
 "nbformat": 4,
 "nbformat_minor": 5
}
