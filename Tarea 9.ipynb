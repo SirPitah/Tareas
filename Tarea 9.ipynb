{
 "cells": [
  {
   "cell_type": "markdown",
   "id": "f8a8d617",
   "metadata": {},
   "source": [
    "# Tarea 9"
   ]
  },
  {
   "cell_type": "markdown",
   "id": "5584cb5c",
   "metadata": {},
   "source": [
    "### Este codigo encuentra la longitud del grafico de una elipse usando el metodo de integración compuesta del trapecio con una precisión de $10^{-6}$"
   ]
  },
  {
   "cell_type": "markdown",
   "id": "11c5b633",
   "metadata": {},
   "source": [
    "Importamos las librerias que vamos a ocupar."
   ]
  },
  {
   "cell_type": "code",
   "execution_count": 108,
   "id": "dfacae29",
   "metadata": {},
   "outputs": [],
   "source": [
    "import numpy as np\n",
    "import matplotlib.pyplot as plt\n",
    "import sympy as sp\n",
    "from scipy.misc import derivative"
   ]
  },
  {
   "cell_type": "markdown",
   "id": "1cafb54a",
   "metadata": {},
   "source": [
    "Nos piden calcular la longitud de grafico de una elipse con ecuación:"
   ]
  },
  {
   "cell_type": "markdown",
   "id": "0f7ae097",
   "metadata": {},
   "source": [
    "## $$4x^2 + 9y^2 = 36$$"
   ]
  },
  {
   "cell_type": "markdown",
   "id": "4dae2281",
   "metadata": {},
   "source": [
    "La longitud de grafico o perimetro del elipse podemos obtenerla calculando la integrar de linea a partir de la siguiente formula."
   ]
  },
  {
   "cell_type": "markdown",
   "id": "29ec3fa1",
   "metadata": {},
   "source": [
    "# $$ \n",
    "l_{elipse} = 4\\int_0^{\\pi/2}dx \\sqrt{a^{2}cos^{2}{\\theta}+b^{2}sin^{2}{\\theta}} \n",
    "$$"
   ]
  },
  {
   "cell_type": "markdown",
   "id": "d521792b",
   "metadata": {},
   "source": [
    "Por lo que la función a integrar es:\n",
    "## $$\n",
    "f(x) = 4\\sqrt{a^{2}cos^{2}{\\theta}+b^{2}sin^{2}{\\theta}} \n",
    "$$"
   ]
  },
  {
   "cell_type": "markdown",
   "id": "74fbbd18",
   "metadata": {},
   "source": [
    "Para hacer uso de la formula necesitamos conocer el valor de los semiejes $a$ y $b$, para ello reordenamos la ecuación para obtener la ecuación canonica de la elipse.\n",
    "\n",
    "# $$\n",
    "\\frac{x^2}{9} + \\frac{y^2}{4} = 1\n",
    "$$\n",
    "\n"
   ]
  },
  {
   "cell_type": "markdown",
   "id": "a3e89ffc",
   "metadata": {},
   "source": [
    "Con esto obtenemos que los valores de los semiejes $a$ (mayor) y $b$ (menor) son:"
   ]
  },
  {
   "cell_type": "markdown",
   "id": "a1d7a9be",
   "metadata": {},
   "source": [
    "### $$a=3$$\n",
    "### $$ b=2 $$"
   ]
  },
  {
   "cell_type": "markdown",
   "id": "ab49d3e9",
   "metadata": {},
   "source": [
    "Definimos la función a integrar."
   ]
  },
  {
   "cell_type": "code",
   "execution_count": 103,
   "id": "6a967329",
   "metadata": {},
   "outputs": [],
   "source": [
    "def funcion(x):\n",
    "    return 4*np.sqrt(9*np.cos(x)**2+4*np.sin(x)**2)"
   ]
  },
  {
   "cell_type": "markdown",
   "id": "24b29f02",
   "metadata": {},
   "source": [
    "Sabemos que el error en el metodo del trapecio es:\n",
    "## $$\\frac{h^2 (b-a)}{12}f''(\\mu)$$\n",
    "##### notar que $a$ y $b$ en esta función son los limites de integracion no los semiejes del elipse.  "
   ]
  },
  {
   "cell_type": "markdown",
   "id": "56de39c3",
   "metadata": {},
   "source": [
    "Para asegurarnos de que tener una precisión mayor o igual a $10^{-6}$ podemos generar una inecuación:\n",
    "## $$\n",
    "E_{Integral} \\leq\\frac{ h^2(b-a)}{12} \\underset{a \\leq x \\leq b}{max}|{f}''(x)|\n",
    "$$"
   ]
  },
  {
   "cell_type": "markdown",
   "id": "4dba029b",
   "metadata": {},
   "source": [
    "Por lo que tenemos que obtener la segunda derivada del integrando."
   ]
  },
  {
   "cell_type": "code",
   "execution_count": 110,
   "id": "b78b014a",
   "metadata": {},
   "outputs": [
    {
     "data": {
      "text/latex": [
       "$\\displaystyle - \\frac{20 \\left(- \\sin^{2}{\\left(x \\right)} + \\cos^{2}{\\left(x \\right)} + \\frac{5 \\sin^{2}{\\left(x \\right)} \\cos^{2}{\\left(x \\right)}}{4 \\sin^{2}{\\left(x \\right)} + 9 \\cos^{2}{\\left(x \\right)}}\\right)}{\\sqrt{4 \\sin^{2}{\\left(x \\right)} + 9 \\cos^{2}{\\left(x \\right)}}}$"
      ],
      "text/plain": [
       "-20*(-sin(x)**2 + cos(x)**2 + 5*sin(x)**2*cos(x)**2/(4*sin(x)**2 + 9*cos(x)**2))/sqrt(4*sin(x)**2 + 9*cos(x)**2)"
      ]
     },
     "execution_count": 110,
     "metadata": {},
     "output_type": "execute_result"
    }
   ],
   "source": [
    "x = sp.Symbol('x') # Definimos la variable sobre la que vamos a derivar\n",
    "y = 4*sp.sqrt(9*sp.cos(x)**2+4*sp.sin(x)**2) # Definimos la función a derirvar\n",
    "y.diff(x,x) # Derivamos simbolicamente"
   ]
  },
  {
   "cell_type": "markdown",
   "id": "9a5b0938",
   "metadata": {},
   "source": [
    "Este resultado se puede reordenar obteniendo:\n",
    "## $$\n",
    "-\\frac{20\\,(9\\,\\cos^4(x)-4\\,\\sin^4(x))}{(9\\,\\cos^2(x)+4\\,\\sin^2(x))^{3/2}}\n",
    "$$"
   ]
  },
  {
   "cell_type": "markdown",
   "id": "fe344aad",
   "metadata": {},
   "source": [
    "Definimos una funcion que aplique lo anterior"
   ]
  },
  {
   "cell_type": "code",
   "execution_count": 63,
   "id": "7fe559a5",
   "metadata": {},
   "outputs": [],
   "source": [
    "def funcion2(x):\n",
    "    return -(20*(9*(np.cos(x))**4 - 4*(np.sin(x))**4))/(9*(np.cos(x))**2 + 4*(np.sin(x))**2)**(3/2) "
   ]
  },
  {
   "cell_type": "markdown",
   "id": "0128613a",
   "metadata": {},
   "source": [
    "Para ver la forma de esta función y encontrar una cota de forma intuitiva, la graficaremos."
   ]
  },
  {
   "cell_type": "code",
   "execution_count": 111,
   "id": "512c5ba5",
   "metadata": {
    "scrolled": false
   },
   "outputs": [
    {
     "data": {
      "text/plain": [
       "[<matplotlib.lines.Line2D at 0x20d85fc3df0>]"
      ]
     },
     "execution_count": 111,
     "metadata": {},
     "output_type": "execute_result"
    },
    {
     "data": {
      "image/png": "[encoded data removed]",
      "text/plain": [
       "<Figure size 432x288 with 1 Axes>"
      ]
     },
     "metadata": {
      "needs_background": "light"
     },
     "output_type": "display_data"
    }
   ],
   "source": [
    "x = np.linspace(-2*np.pi,2*np.pi,1000) # Generamos mil puntos entre -2*pi y 2*pi\n",
    "\n",
    "plt.plot( x, funcion2(x))"
   ]
  },
  {
   "cell_type": "markdown",
   "id": "77c1d6ca",
   "metadata": {},
   "source": [
    "Se logra ver de forma intuitiva que 10 puede ser una buena cota superior con\n",
    "## $$x= \\frac{\\pi}{2}$$"
   ]
  },
  {
   "cell_type": "markdown",
   "id": "ddaa88e8",
   "metadata": {},
   "source": [
    "Para comprobar que 10 es el valor maximo derivamos nuevamente esta funcion y la evaluamos en $\\frac{\\pi}{2}$"
   ]
  },
  {
   "cell_type": "code",
   "execution_count": 91,
   "id": "a7aa41b6",
   "metadata": {},
   "outputs": [
    {
     "name": "stdout",
     "output_type": "stream",
     "text": [
      "10.0 0.0\n"
     ]
    }
   ],
   "source": [
    "d = derivative(funcion2,np.pi/2,dx=10**(-8)) # Evaluamos la derivada de la funcion2 en el punto pi/2\n",
    "r = funcion2(np.pi/2) # Evaluamos la función2 en el punto  pi/2\n",
    "print(r , d)"
   ]
  },
  {
   "cell_type": "markdown",
   "id": "aff4168f",
   "metadata": {},
   "source": [
    "Con estop demostramos que el mayor valor que pueden alcanzar la segunda derivada de nuestro integrando es 10, por lo que el termino de error quedaria de la siguiente forma:\n",
    "## $$\\frac{5\\,h^2 (b-a)}{6}$$\n"
   ]
  },
  {
   "cell_type": "markdown",
   "id": "fdfa29e3",
   "metadata": {},
   "source": [
    "Sabiendo que $h = \\frac{(b - a)}{n}$ nos queda: \n",
    "## $$\\frac{5\\,(b-a)^3}{6\\,n^2}$$\n",
    "##### Notar que n es el numero de trapecios generados para la aproximación\n",
    "Teniendo $a = 0$ y $b = \\frac{\\pi}{2}$ y sabiendo que debe ser menor a la precision solicitada podemos generar la siguiente inecuación para encontrar el valor de n:\n",
    "## $$\\frac{5\\,(\\frac{\\pi}{2})^3}{6\\,n^2} \\leq 10^{-6}$$\n",
    "Despejando n:\n",
    "## $$ n \\geq 250 \\sqrt{\\frac{5}{3} }\\pi^{3/2}$$"
   ]
  },
  {
   "cell_type": "markdown",
   "id": "c4fbc4f4",
   "metadata": {},
   "source": [
    "Resolvemos el termino de la derecha"
   ]
  },
  {
   "cell_type": "code",
   "execution_count": 106,
   "id": "46015387",
   "metadata": {},
   "outputs": [
    {
     "data": {
      "text/plain": [
       "1797.170133162476"
      ]
     },
     "execution_count": 106,
     "metadata": {},
     "output_type": "execute_result"
    }
   ],
   "source": [
    "250*np.sqrt(5/3)*np.pi**(3/2)"
   ]
  },
  {
   "cell_type": "markdown",
   "id": "de6bbe11",
   "metadata": {},
   "source": [
    "Por lo que para obtener un error menor a $10^{-6}$:\n",
    "## $$n \\geq 1797$$"
   ]
  },
  {
   "cell_type": "code",
   "execution_count": 112,
   "id": "56fd5bd7",
   "metadata": {},
   "outputs": [],
   "source": [
    "n=1798 # Elegimos un valor para n que nos de la precisión requerida"
   ]
  },
  {
   "cell_type": "markdown",
   "id": "556cd229",
   "metadata": {},
   "source": [
    "Ya sabiendo el valor necesario de n para obtener con la precisión requerida tenemos todo para aplicar el metodo compuesto del trapecio, por lo que ahora definimos una funcion que aplique el metodo del trapecio:"
   ]
  },
  {
   "cell_type": "code",
   "execution_count": 104,
   "id": "d634aca5",
   "metadata": {},
   "outputs": [],
   "source": [
    "def trapecio(f, a, b, n):\n",
    "    fx= [] # Generamos una lista para guardar los puntos de la función\n",
    "    h = (b - a)/n # Definimos h\n",
    "    xp = np.linspace(a+h, b-h, n-1, endpoint=True) # Generamos los puntos donde se evalua la función para generar los trapecios\n",
    "    k= len(xp) # Tomamos el tamaño de la lista de puntos para el ciclo while\n",
    "    i=0\n",
    "    # Generamos un cilco while para evaluar la función en todos los puntos\n",
    "    while i < k: # Repetimos el proceso de 0 hasta k-1\n",
    "        fx.append(f(i)) # Evaluamos la funcion en todos los punto numero i\n",
    "        i=i+1\n",
    "    return (h/2)*(f(a) + 2*sum(fx) + f(b)) # Aplicamos finalmente el metodo compuesto del trapecio."
   ]
  },
  {
   "cell_type": "code",
   "execution_count": 113,
   "id": "cdcd0721",
   "metadata": {},
   "outputs": [
    {
     "name": "stdout",
     "output_type": "stream",
     "text": [
      "La longitud de grafico del elipse es aproximadamente 15.865361219317114 con una precisión de 10^{-6}\n"
     ]
    }
   ],
   "source": [
    "L = trapecio(funcion, 0, np.pi/2, n)\n",
    "print('La longitud de grafico del elipse es aproximadamente', str(L), 'con una precisión de 10^{-6}' )"
   ]
  }
 ],
 "metadata": {
  "kernelspec": {
   "display_name": "Python 3",
   "language": "python",
   "name": "python3"
  },
  "language_info": {
   "codemirror_mode": {
    "name": "ipython",
    "version": 3
   },
   "file_extension": ".py",
   "mimetype": "text/x-python",
   "name": "python",
   "nbconvert_exporter": "python",
   "pygments_lexer": "ipython3",
   "version": "3.8.8"
  }
 },
 "nbformat": 4,
 "nbformat_minor": 5
}
