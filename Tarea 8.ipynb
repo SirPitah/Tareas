{
 "cells": [
  {
   "cell_type": "markdown",
   "id": "f8a8d617",
   "metadata": {},
   "source": [
    "# Tarea 8"
   ]
  },
  {
   "cell_type": "markdown",
   "id": "5584cb5c",
   "metadata": {},
   "source": [
    "### Este codigo encuentra la raiz de una función usando el metodo de la bisección y el metodo de Newton"
   ]
  },
  {
   "cell_type": "markdown",
   "id": "11c5b633",
   "metadata": {},
   "source": [
    "Importamos las librerias que vamos a ocupar."
   ]
  },
  {
   "cell_type": "code",
   "execution_count": 32,
   "id": "dfacae29",
   "metadata": {},
   "outputs": [],
   "source": [
    "import matplotlib.pyplot as plt\n",
    "import numpy as np\n",
    "from scipy.interpolate import interp1d"
   ]
  },
  {
   "cell_type": "markdown",
   "id": "c9492844",
   "metadata": {},
   "source": [
    "Definimos la interpolacion lineal tramo a tramo."
   ]
  },
  {
   "cell_type": "code",
   "execution_count": 6,
   "id": "be5a8b9b",
   "metadata": {},
   "outputs": [],
   "source": [
    "def find_ind(x, puntos):\n",
    "    for i in range(len(puntos)):\n",
    "        if x < puntos[i,0] and i != 0:\n",
    "            return i-1\n",
    "\n",
    "def lin_interp(x, puntos):\n",
    "    if x >= puntos[len(puntos)-1,0]:\n",
    "        return puntos[len(puntos)-1,1]\n",
    "    elif x <= puntos[0,0]:\n",
    "        return puntos[0,1]\n",
    "    \n",
    "    i = find_ind(x, puntos)\n",
    "    Lo = puntos[i][1]*(x - puntos[i+1][0])/(puntos[i][0] - puntos[i+1][0])\n",
    "    L1 = puntos[i+1][1]*(x - puntos[i][0])/(puntos[i+1][0] - puntos[i][0])\n",
    "    return Lo + L1"
   ]
  },
  {
   "cell_type": "markdown",
   "id": "15dc21d7",
   "metadata": {},
   "source": [
    "Definimos la función para calcular los coeficientes de la spline cubica vista en clases."
   ]
  },
  {
   "cell_type": "code",
   "execution_count": 2,
   "id": "d3f32237",
   "metadata": {},
   "outputs": [],
   "source": [
    "def spline_coefs(puntos):\n",
    "    \n",
    "    n = len(puntos) - 1\n",
    "    \n",
    "    h = np.zeros(n)\n",
    "    for i in range(n):\n",
    "        h[i] = puntos[i + 1][0] - puntos[i][0]\n",
    "    \n",
    "    a = puntos[:,1]\n",
    "    alpha = np.zeros(n - 1)\n",
    "    for i in range(1, n):\n",
    "        alpha[i-1] = (3/h[i])*(a[i+1] - a[i]) - (3/h[i-1])*(a[i] - a[i-1])\n",
    "        \n",
    "        \n",
    "    # Se resuelve un sistema de ecuaciones:\n",
    "    l = np.ones(n + 1)\n",
    "    mu = np.zeros(n)\n",
    "    z = np.zeros(n + 1)\n",
    "    for i in range(1, n):\n",
    "        l[i] = 2*(puntos[i+1][0] - puntos[i-1][0]) - h[i-1]*mu[i-1]\n",
    "        mu[i] = h[i]/l[i]\n",
    "        z[i] = (alpha[i-1] - h[i-1]*z[i-1])/l[i]\n",
    "    b = np.zeros(n)\n",
    "    c = np.zeros(n+1)\n",
    "    d = np.zeros(n)\n",
    "    for j in range(n-1,-1,-1):\n",
    "        c[j] = z[j] - mu[j]*c[j+1]\n",
    "        b[j] = (a[j+1] - a[j])/h[j] - h[j]*(c[j+1] + 2*c[j])/3\n",
    "        d[j] = (c[j+1] - c[j])/(3*h[j])\n",
    "        \n",
    "    return a, b, c, d"
   ]
  },
  {
   "cell_type": "markdown",
   "id": "a9271ac9",
   "metadata": {},
   "source": [
    "Definimos la función de interpolacion de spline cubica vista en clases."
   ]
  },
  {
   "cell_type": "code",
   "execution_count": 1,
   "id": "996d247f",
   "metadata": {},
   "outputs": [],
   "source": [
    "def spline_eval(x, coefs, puntos):\n",
    "\n",
    "    if x >= puntos[-1,0]:\n",
    "        return puntos[-1,1]\n",
    "    elif x <= puntos[0,0]:\n",
    "        return puntos[0,1]\n",
    "    \n",
    "    i = find_ind(x, puntos)\n",
    "    a, b, c, d = coefs\n",
    "    return (a[i] + b[i]*(x - puntos[i][0]) + \\\n",
    "            c[i]*(x - puntos[i][0])**2 + d[i]*(x - puntos[i][0])**3)"
   ]
  },
  {
   "cell_type": "markdown",
   "id": "3795c047",
   "metadata": {},
   "source": [
    "Definimos el rango donde se hara la interpolación de la spline cubica vista en clases y la función scipy, aplicamos ambas funciones y las graficamos junto a la función exacta."
   ]
  },
  {
   "cell_type": "code",
   "execution_count": 61,
   "id": "1ec48703",
   "metadata": {
    "scrolled": false
   },
   "outputs": [
    {
     "data": {
      "text/plain": [
       "<matplotlib.collections.PathCollection at 0x24eb32eb310>"
      ]
     },
     "execution_count": 61,
     "metadata": {},
     "output_type": "execute_result"
    },
    {
     "data": {
      "image/png": "[encoded data removed]",
      "text/plain": [
       "<Figure size 432x288 with 1 Axes>"
      ]
     },
     "metadata": {
      "needs_background": "light"
     },
     "output_type": "display_data"
    }
   ],
   "source": [
    "mini = -2  # Cota inferior de x\n",
    "maxi = 2   # Cota superior de x\n",
    "order = 20 # Cantidad de puntos a tomar\n",
    "\n",
    "xp = np.linspace(mini, maxi, order) # Obtenemos los valores de x dentro del rango que elegimos\n",
    "puntos = np.array([[xi, np.tanh(xi)] for xi in xp]) # Obtenemos los puntos en la función exacta para los x dentro del rango\n",
    "coefs= spline_coefs(puntos) # Ocupamos los puntos obtenidos  para encontrar los coeficientes de la interpolación\n",
    "\n",
    "y = np.tanh(xp) # Obtenemos los puntos en la función exacta para los x dentro del rango para la función de Scipy\n",
    "f = interp1d(xp, y, kind='cubic') # Introduccimos los puntos obtenidos para hacer la interpolacioón con la función de Scipy\n",
    "\n",
    "\n",
    "x = np.linspace(mini, maxi, 100) # Obtenemos 100 x dento del rango para graficar la funcion exacta y las dos interpolaciones\n",
    "exact = np.tanh(x) # Obtenemos los puntos exactos\n",
    "spline = [spline_eval(xi, coefs, puntos) for xi in x]# Obtenemos los puntos con la interpolacion de spline cubica vista en clase\n",
    "scipy = f(x) # Obtenemos los puntos con la interpolación de la función de Scipy\n",
    "\n",
    "\n",
    "plt.plot( x, exact, x, spline, '.', x, scipy, '--') # Graficamos la funcion exacta, la spline cubica y la función de Scipy\n",
    "plt.scatter(puntos[:,0], puntos[:,1], color='red') # Graficamos los 20 puntos que se usaron para generar la interpolación"
   ]
  },
  {
   "cell_type": "markdown",
   "id": "e85e799a",
   "metadata": {},
   "source": [
    "A primera vista no se ven diferencias claras en los resultados de las funciones, por lo que para ver mas claro las diferencia se calculan los errores relativos de ambas interpolaciones."
   ]
  },
  {
   "cell_type": "code",
   "execution_count": 62,
   "id": "ccc072be",
   "metadata": {
    "scrolled": true
   },
   "outputs": [
    {
     "data": {
      "text/plain": [
       "[<matplotlib.lines.Line2D at 0x24eb2cfbca0>,\n",
       " <matplotlib.lines.Line2D at 0x24eb2cfbd90>]"
      ]
     },
     "execution_count": 62,
     "metadata": {},
     "output_type": "execute_result"
    },
    {
     "data": {
      "image/png": "[encoded data removed]",
      "text/plain": [
       "<Figure size 432x288 with 1 Axes>"
      ]
     },
     "metadata": {
      "needs_background": "light"
     },
     "output_type": "display_data"
    }
   ],
   "source": [
    "Error_SPL= abs((exact - spline)/exact) # Error relativo de la spline cubica vista en clases\n",
    "Error_S= abs((exact - scipy)/exact) # Error relativo de la función de Scipy\n",
    "\n",
    "plt.plot( x, Error_SPL, x, Error_S, '--') # Graficamos los errores vs x"
   ]
  },
  {
   "cell_type": "markdown",
   "id": "9c1b7617",
   "metadata": {},
   "source": [
    "A simple vista se logra ver que el error de la spline cubica es mayor al de la función de Scipy, por lo que calculamos cuanto error tienen en promedio cada una."
   ]
  },
  {
   "cell_type": "code",
   "execution_count": 64,
   "id": "8559ec48",
   "metadata": {},
   "outputs": [
    {
     "name": "stdout",
     "output_type": "stream",
     "text": [
      "El error relativo promedio al hacer interpolación con la spline cúbica introducida en clase es mayor al error de la función de scipy con una diferencia entre los promedios de 2.362395319548436e-05\n"
     ]
    }
   ],
   "source": [
    "PromE_SPL= Error_SPL.mean() # Calculamos el promedio del error de  la spline cubica\n",
    "PromE_S= Error_S.mean() # Calculamos el promedio del error de la función de Scipy\n",
    "k = abs(PromE_SPL - PromE_S)\n",
    "if PromE_SPL > PromE_S:\n",
    "    print('El error relativo promedio al hacer interpolación con la spline cúbica introducida en clase es mayor al error',\n",
    "         'de la función de scipy', 'con una diferencia entre los promedios de', str(k))\n",
    "else :\n",
    "    print('El error relativo promedio al hacer interpolación con la función de scipy es mayor al error',\n",
    "         'de la spline cúbica introducida en clase' , 'con una diferencia entre los promedios de', str(k))"
   ]
  }
 ],
 "metadata": {
  "kernelspec": {
   "display_name": "Python 3",
   "language": "python",
   "name": "python3"
  },
  "language_info": {
   "codemirror_mode": {
    "name": "ipython",
    "version": 3
   },
   "file_extension": ".py",
   "mimetype": "text/x-python",
   "name": "python",
   "nbconvert_exporter": "python",
   "pygments_lexer": "ipython3",
   "version": "3.8.8"
  }
 },
 "nbformat": 4,
 "nbformat_minor": 5
}
