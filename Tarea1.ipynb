{
  "nbformat": 4,
  "nbformat_minor": 0,
  "metadata": {
    "colab": {
      "name": "Untitled1.ipynb",
      "provenance": [],
      "collapsed_sections": []
    },
    "kernelspec": {
      "name": "python3",
      "display_name": "Python 3"
    },
    "language_info": {
      "name": "python"
    }
  },
  "cells": [
    {
      "cell_type": "markdown",
      "metadata": {
        "id": "Ova6iaMamaoL"
      },
      "source": [
        "##Tarea 1"
      ]
    },
    {
      "cell_type": "code",
      "metadata": {
        "colab": {
          "base_uri": "https://localhost:8080/"
        },
        "id": "KPi_ctSxmkyL",
        "outputId": "320b33a4-fb82-434e-c1bc-0ebdc6feaade"
      },
      "source": [
        "x = 0\n",
        "while x <= 10:\n",
        "  x = x+1\n",
        "  print(x*\"1\")"
      ],
      "execution_count": 2,
      "outputs": [
        {
          "output_type": "stream",
          "text": [
            "1\n",
            "11\n",
            "111\n",
            "1111\n",
            "11111\n",
            "111111\n",
            "1111111\n",
            "11111111\n",
            "111111111\n",
            "1111111111\n",
            "11111111111\n"
          ],
          "name": "stdout"
        }
      ]
    }
  ]
}