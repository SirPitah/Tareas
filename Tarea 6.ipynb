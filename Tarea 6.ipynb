{
 "cells": [
  {
   "cell_type": "markdown",
   "id": "f8a8d617",
   "metadata": {},
   "source": [
    "## Tarea 6"
   ]
  },
  {
   "cell_type": "markdown",
   "id": "11c5b633",
   "metadata": {},
   "source": [
    "Importamos las librerias que vamos a ocupar."
   ]
  },
  {
   "cell_type": "code",
   "execution_count": 2,
   "id": "dfacae29",
   "metadata": {},
   "outputs": [],
   "source": [
    "import matplotlib.pyplot as plt\n",
    "import numpy as np"
   ]
  },
  {
   "cell_type": "markdown",
   "id": "228c36d6",
   "metadata": {},
   "source": [
    "Definimos los conjuntos y los transformamos en un array para trabajar con los datos."
   ]
  },
  {
   "cell_type": "code",
   "execution_count": 25,
   "id": "df1bf1aa",
   "metadata": {},
   "outputs": [],
   "source": [
    "# Conjunto 1\n",
    "c1 = np.array([10.09728388, 14.00677546,  9.97330124, 10.03403577, 10.11014852,\n",
    "        9.85702412, 10.06725561, 10.08586217,  9.99805356, 10.09222044,\n",
    "        9.96873542, 10.0603082 ,  9.78777855, 10.01658336, 10.12528138,\n",
    "       14.1191067 ,  14.88058074,  9.93142885, 10.36578158, 10.09212493,\n",
    "        9.88930781,  9.9849203 , 10.02020365, 10.06761813, 10.00167307,\n",
    "       14.14360885,  9.97572225, 10.15246422,  9.99133822,  9.90424116,\n",
    "       10.10501793,  9.91869535, 10.07039047, 10.06006262, 10.01032325,\n",
    "       10.00433072,  9.94767238,  9.93286478, 10.03173287,  9.92066554,\n",
    "        9.97108415,  9.83034826,  9.94135165,  9.97791295, 10.16112762,\n",
    "       10.06797202, 10.0263643 ,  9.97961471,  9.78969763, 10.05166943,\n",
    "        9.91131264,  9.98634534,  9.97974543, 10.07362277,  9.88424591,\n",
    "        9.99315227, 13.08325547, 10.02539059, 10.1065997 ,  9.83627837,\n",
    "        9.96746961, 10.11354781,  9.98733076,  9.86269556, 10.06259149,\n",
    "        9.73748286, 10.12718777, 10.02529891,  9.96605039, 10.03798876,\n",
    "       10.02311967, 14.09473823,  9.9550051 , 10.17043078, 10.09425491,\n",
    "       10.09005108, 10.01950653, 14.02402728,  9.89166114,  9.89202929,\n",
    "        9.84356976,  9.95499455,  9.98309913,  9.9321069 , 10.02759998,\n",
    "       10.01884409,  9.93640317,  9.84393786, 10.0192927 , 10.17990282,\n",
    "        9.89937182, 10.02106925, 10.01263725,  9.89573905, 10.11424838,\n",
    "       10.08980671, 15.03267925,  9.84762111,  9.96499894,  9.91684104])\n",
    "\n",
    "# Conjunto 2\n",
    "c2 = np.array([10.13630034,  9.97264447, 10.04529035, 10.09188684, 10.00855386,\n",
    "        9.90416116, 10.06281985, 10.10757175,  9.91838149, 10.0493961 ,\n",
    "       10.02446199, 10.10448656,  9.77283484,  9.85600398,  9.90039543,\n",
    "        9.82106987, 10.04031262, 10.06144001, 10.10988717,  9.74308934,\n",
    "        9.99702215,  9.9859704 ,  9.89807371,  9.99585103,  9.93988323,\n",
    "        9.89990546, 10.05643454,  9.94774945, 10.05428393,  9.88404769,\n",
    "       10.00726402,  9.92586135,  9.961164  , 10.01782874,  9.92329839,\n",
    "       10.06092894,  9.95886161,  9.89049626, 10.07754125,  9.83061899,\n",
    "       10.13919176,  9.96898158, 10.06438291, 10.02476394,  9.81875984,\n",
    "       10.0655806 , 10.00193677,  9.96395486,  9.89494378,  9.98505133,\n",
    "        9.95691616,  9.97416592, 10.10692325, 10.18250899, 10.10749261,\n",
    "       10.1037641 ,  9.86450491,  9.85218941, 10.02603336,  9.89537915,\n",
    "        9.89940417,  9.91235537, 10.05523101, 10.08142251, 10.01086045,\n",
    "        9.96034572, 10.1482815 ,  9.99360685,  9.91925958, 10.10239163,\n",
    "       10.03106757,  9.93136713, 10.01773794, 10.05200499, 10.10178781,\n",
    "        9.87483023,  9.94272878,  9.9671527 ,  9.99712438,  9.91594426,\n",
    "        9.99679193,  9.88884633, 10.07940955,  9.90776214, 10.0123038 ,\n",
    "        9.96426746, 10.01747625, 10.0392178 , 10.05489883,  9.67062975,\n",
    "       10.06149946, 10.09805716,  9.83077801, 10.00208448, 10.02687927,\n",
    "        9.99354725,  9.96120681,  9.94538711,  9.96279696,  9.86707357])\n",
    "\n",
    "# Conjunto 3\n",
    "c3 = np.array([ 9.9032974 , 10.06746832,  9.98360179, 10.02011113, 10.01317417,\n",
    "       10.09982861,  9.93307724, 10.04944268,  9.9000297 ,  9.96237539,\n",
    "        9.91807876, 10.00338938,  9.99543713, 10.04674212, 10.08063919,\n",
    "        9.99627534, 10.04558084, 10.06576491, 10.01787305,  9.90861284,\n",
    "        9.99567107,  9.92934922, 10.07999909, 10.04248524, 10.04884959,\n",
    "        9.90839636, 10.04266824,  9.98720842,  9.92392857, 10.00288059,\n",
    "        9.96299254, 10.06967059,  9.94880142,  9.92020426, 10.07145123,\n",
    "        9.91179764,  9.95914293,  9.98200017,  9.93190323,  9.92372118,\n",
    "        9.90601205, 10.09884219, 10.04411164,  9.91673593, 10.09883873,\n",
    "       10.06399646, 10.05061298, 10.02253924, 10.00159467,  9.98862911,\n",
    "        9.99792681,  9.96149526,  9.93018115,  9.95211   ,  9.94530659,\n",
    "        9.9713637 ,  9.91789999, 10.06730498, 10.02326566, 10.06438782,\n",
    "        9.9794271 , 10.06077859,  9.99556797,  9.98272556, 10.01617789,\n",
    "        9.95166775, 10.00406298, 10.02627066,  9.98342611, 10.03584277,\n",
    "        9.98478095, 10.0834946 , 10.01403125, 10.04629496, 10.01444209,\n",
    "       10.02043805, 10.01325408,  9.96317469,  9.93915936, 10.04026662,\n",
    "       10.06055512,  9.98923231, 10.07144049, 10.09482468,  9.94512088,\n",
    "       10.07417098, 10.00802839, 10.01338588,  9.96553168,  9.96240508,\n",
    "        9.9963694 ,  9.96827214,  9.91378322,  9.96249148, 10.02461909,\n",
    "        9.98179311,  9.95811448,  9.9903446 , 10.01001352, 10.06304347])"
   ]
  },
  {
   "cell_type": "markdown",
   "id": "94a06177",
   "metadata": {},
   "source": [
    "Definimos el valor esperado y la desviacion estandar."
   ]
  },
  {
   "cell_type": "code",
   "execution_count": 4,
   "id": "988a906b",
   "metadata": {},
   "outputs": [],
   "source": [
    "mu = 10\n",
    "sigma = 0.1"
   ]
  },
  {
   "cell_type": "markdown",
   "id": "1691ab51",
   "metadata": {},
   "source": [
    "Calculamos el promedio del primer conjunto."
   ]
  },
  {
   "cell_type": "code",
   "execution_count": 5,
   "id": "b0911e85",
   "metadata": {},
   "outputs": [
    {
     "data": {
      "text/plain": [
       "10.331568469499999"
      ]
     },
     "execution_count": 5,
     "metadata": {},
     "output_type": "execute_result"
    }
   ],
   "source": [
    "P1 = c1.mean()\n",
    "P1"
   ]
  },
  {
   "cell_type": "markdown",
   "id": "55e9f279",
   "metadata": {},
   "source": [
    "Calculamos el promedio del segundo conjunto."
   ]
  },
  {
   "cell_type": "code",
   "execution_count": 6,
   "id": "5dab5b85",
   "metadata": {},
   "outputs": [
    {
     "data": {
      "text/plain": [
       "9.983373168899998"
      ]
     },
     "execution_count": 6,
     "metadata": {},
     "output_type": "execute_result"
    }
   ],
   "source": [
    "P2 = c2.mean()\n",
    "P2"
   ]
  },
  {
   "cell_type": "markdown",
   "id": "630c4320",
   "metadata": {},
   "source": [
    "Calculamos el promedio del tercer conjunto."
   ]
  },
  {
   "cell_type": "code",
   "execution_count": 7,
   "id": "1b5a957c",
   "metadata": {},
   "outputs": [
    {
     "data": {
      "text/plain": [
       "9.9988590056"
      ]
     },
     "execution_count": 7,
     "metadata": {},
     "output_type": "execute_result"
    }
   ],
   "source": [
    "P3 = c3.mean()\n",
    "P3"
   ]
  },
  {
   "cell_type": "markdown",
   "id": "0110ebe4",
   "metadata": {},
   "source": [
    "Generamos una función que mida la diferencia entre el promedio y el valor esperado."
   ]
  },
  {
   "cell_type": "code",
   "execution_count": 8,
   "id": "98167654",
   "metadata": {},
   "outputs": [],
   "source": [
    "def Diferencia(Promedio,Esperado,Desviacion):\n",
    "    D = abs(Promedio - Esperado) #Generamos la diferencia\n",
    "    if D > 3*Desviacion: #Comprobamos si la diferencia es mayor a almenos 3 sigmas\n",
    "        return print('El Conjunto es anomalo')\n",
    "    else:\n",
    "        return print('El Conjunto no es anomalo')"
   ]
  },
  {
   "cell_type": "markdown",
   "id": "dd177449",
   "metadata": {},
   "source": [
    "Usamos la función en los diferentes conjuntos."
   ]
  },
  {
   "cell_type": "code",
   "execution_count": 9,
   "id": "fbbc06f4",
   "metadata": {},
   "outputs": [
    {
     "name": "stdout",
     "output_type": "stream",
     "text": [
      "El Conjunto es anomalo\n",
      "El Conjunto no es anomalo\n",
      "El Conjunto no es anomalo\n"
     ]
    }
   ],
   "source": [
    "Diferencia(P1,mu,sigma) #La diferencia para el primer conjunto\n",
    "Diferencia(P2,mu,sigma) #La diferencia para el segundo conjunto\n",
    "Diferencia(P3,mu,sigma) #La diferencia para el tercer conjunto"
   ]
  },
  {
   "cell_type": "markdown",
   "id": "be751617",
   "metadata": {},
   "source": [
    "El conjunto es anomalo debido a que el promedio de sus datos esta a una distancia de al menos 3 sigmas lo que es una diferencia demasiado grande, se puede ver visualmente que tiene valores anomalos haciendo su histograma."
   ]
  },
  {
   "cell_type": "code",
   "execution_count": 10,
   "id": "490356ae",
   "metadata": {
    "scrolled": true
   },
   "outputs": [
    {
     "data": {
      "text/plain": [
       "(array([ 5., 22., 38., 23.,  3.,  1.,  0.,  0.,  0.,  0.,  0.,  0.,  0.,\n",
       "         0.,  0.,  0.,  0.,  0.,  0.,  0.,  0.,  0.,  0.,  0.,  0.,  0.,\n",
       "         0.,  0.,  0.,  0.,  0.,  1.,  0.,  0.,  0.,  0.,  0.,  0.,  0.,\n",
       "         0.,  2.,  3.,  0.,  0.,  0.,  0.,  0.,  0.,  1.,  1.]),\n",
       " array([ 9.73748286,  9.84338679,  9.94929072, 10.05519464, 10.16109857,\n",
       "        10.2670025 , 10.37290643, 10.47881035, 10.58471428, 10.69061821,\n",
       "        10.79652214, 10.90242607, 11.00832999, 11.11423392, 11.22013785,\n",
       "        11.32604178, 11.4319457 , 11.53784963, 11.64375356, 11.74965749,\n",
       "        11.85556142, 11.96146534, 12.06736927, 12.1732732 , 12.27917713,\n",
       "        12.38508106, 12.49098498, 12.59688891, 12.70279284, 12.80869677,\n",
       "        12.91460069, 13.02050462, 13.12640855, 13.23231248, 13.33821641,\n",
       "        13.44412033, 13.55002426, 13.65592819, 13.76183212, 13.86773604,\n",
       "        13.97363997, 14.0795439 , 14.18544783, 14.29135176, 14.39725568,\n",
       "        14.50315961, 14.60906354, 14.71496747, 14.82087139, 14.92677532,\n",
       "        15.03267925]),\n",
       " <BarContainer object of 50 artists>)"
      ]
     },
     "execution_count": 10,
     "metadata": {},
     "output_type": "execute_result"
    },
    {
     "data": {
      "image/png": "[encoded data removed]",
      "text/plain": [
       "<Figure size 432x288 with 1 Axes>"
      ]
     },
     "metadata": {
      "needs_background": "light"
     },
     "output_type": "display_data"
    }
   ],
   "source": [
    "plt.hist(c1,bins=50) #Generamos un histograma con 50 divisiones"
   ]
  },
  {
   "cell_type": "markdown",
   "id": "1625817b",
   "metadata": {},
   "source": [
    "Se puede ver como hay valores muy alejados de 10 se puede ver que esos datos estan mucho mas alla de 5 sigmas."
   ]
  },
  {
   "cell_type": "code",
   "execution_count": 28,
   "id": "ffdf073d",
   "metadata": {},
   "outputs": [
    {
     "name": "stdout",
     "output_type": "stream",
     "text": [
      "los valores anomalos son [14.00677546, 14.1191067, 14.88058074, 14.14360885, 13.08325547, 14.09473823, 14.02402728, 15.03267925]\n"
     ]
    }
   ],
   "source": [
    "K = len(c1) #Se toma la longitud del conjunto\n",
    "A = [] # Se genera una lista donde se guardaran los resultados\n",
    "d=0 # definimos la variable que sera la diferencia\n",
    "i=0\n",
    "while i < K: #Generamos un ciclo while desde 0 hasta el tamaño del conjunto\n",
    "    d = abs(c1[i] - mu) #Generamos la diferencia entre el valor obtenido y el valor esperado\n",
    "    if d > 5*sigma: #Si la diferencia es mayor a 5 sigmas el valor obtenido se guarda en la lista A\n",
    "        A.insert(i,c1[i])\n",
    "    i=i+1\n",
    "print('los valores anomalos son',str(A))"
   ]
  },
  {
   "cell_type": "markdown",
   "id": "0f167bfd",
   "metadata": {},
   "source": [
    "Se puede concluir que esos valores alejados del promedio son los que provocan que el conjunto sea anomalo."
   ]
  },
  {
   "cell_type": "markdown",
   "id": "8ffaa838",
   "metadata": {},
   "source": [
    "# Calificación: 4.5"
   ]
  },
  {
   "cell_type": "markdown",
   "id": "a4ce2513",
   "metadata": {},
   "source": [
    "(-1.5 puntos) Entrega muy retrasada\n",
    "\n",
    "(-1.0 puntos) El conjunto 3 también es anómalo, eso no se detectó."
   ]
  }
 ],
 "metadata": {
  "kernelspec": {
   "display_name": "Python 3",
   "language": "python",
   "name": "python3"
  },
  "language_info": {
   "codemirror_mode": {
    "name": "ipython",
    "version": 3
   },
   "file_extension": ".py",
   "mimetype": "text/x-python",
   "name": "python",
   "nbconvert_exporter": "python",
   "pygments_lexer": "ipython3",
   "version": "3.8.5"
  }
 },
 "nbformat": 4,
 "nbformat_minor": 5
}
